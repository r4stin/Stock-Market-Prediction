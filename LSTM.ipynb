{
 "metadata": {
  "kernelspec": {
   "display_name": "Python 3",
   "language": "python",
   "name": "python3"
  },
  "language_info": {
   "name": "python",
   "version": "3.10.13",
   "mimetype": "text/x-python",
   "codemirror_mode": {
    "name": "ipython",
    "version": 3
   },
   "pygments_lexer": "ipython3",
   "nbconvert_exporter": "python",
   "file_extension": ".py"
  },
  "kaggle": {
   "accelerator": "gpu",
   "dataSources": [
    {
     "sourceId": 9051886,
     "sourceType": "datasetVersion",
     "datasetId": 5454436
    }
   ],
   "dockerImageVersionId": 30747,
   "isInternetEnabled": true,
   "language": "python",
   "sourceType": "notebook",
   "isGpuEnabled": true
  }
 },
 "nbformat_minor": 5,
 "nbformat": 4,
 "cells": [
  {
   "cell_type": "markdown",
   "source": [
    "# Importing the necessary libraries"
   ],
   "metadata": {},
   "id": "2afebf12ce786213"
  },
  {
   "cell_type": "code",
   "source": [
    "import numpy as np\n",
    "import matplotlib.pyplot as plt\n",
    "import pandas as pd\n",
    "import requests\n",
    "import io\n",
    "from sklearn.preprocessing import MinMaxScaler\n",
    "from keras.models import Sequential\n",
    "from keras.layers import LSTM, Dense, Dropout, Input"
   ],
   "metadata": {
    "collapsed": false,
    "is_executing": true,
    "execution": {
     "iopub.status.busy": "2024-07-31T12:15:57.020297Z",
     "iopub.execute_input": "2024-07-31T12:15:57.020966Z",
     "iopub.status.idle": "2024-07-31T12:16:09.405539Z",
     "shell.execute_reply.started": "2024-07-31T12:15:57.020931Z",
     "shell.execute_reply": "2024-07-31T12:16:09.404719Z"
    },
    "trusted": true
   },
   "execution_count": 1,
   "outputs": [
    {
     "name": "stderr",
     "text": "2024-07-31 12:15:59.750651: E external/local_xla/xla/stream_executor/cuda/cuda_dnn.cc:9261] Unable to register cuDNN factory: Attempting to register factory for plugin cuDNN when one has already been registered\n2024-07-31 12:15:59.750753: E external/local_xla/xla/stream_executor/cuda/cuda_fft.cc:607] Unable to register cuFFT factory: Attempting to register factory for plugin cuFFT when one has already been registered\n2024-07-31 12:15:59.887758: E external/local_xla/xla/stream_executor/cuda/cuda_blas.cc:1515] Unable to register cuBLAS factory: Attempting to register factory for plugin cuBLAS when one has already been registered\n",
     "output_type": "stream"
    }
   ],
   "id": "1c108f20394f0374"
  },
  {
   "cell_type": "markdown",
   "source": [
    "# Setting"
   ],
   "metadata": {},
   "id": "b5713eb248b10580"
  },
  {
   "cell_type": "code",
   "source": [
    "api_key = 'your_api_key'\n",
    "symbol = 'your_stock_symbol'  # Example stock symbol: 'MXL'\n",
    "timesteps = 60"
   ],
   "metadata": {
    "collapsed": false,
    "is_executing": true,
    "execution": {
     "iopub.status.busy": "2024-07-31T12:16:09.407383Z",
     "iopub.execute_input": "2024-07-31T12:16:09.407934Z",
     "iopub.status.idle": "2024-07-31T12:16:09.412205Z",
     "shell.execute_reply.started": "2024-07-31T12:16:09.407907Z",
     "shell.execute_reply": "2024-07-31T12:16:09.411161Z"
    },
    "trusted": true
   },
   "execution_count": 2,
   "outputs": [],
   "id": "13e00da51bdf34e5"
  },
  {
   "cell_type": "markdown",
   "source": [
    "# Reading the data from API"
   ],
   "metadata": {},
   "id": "4aca10dffb290bd5"
  },
  {
   "cell_type": "code",
   "source": [
    "def pre_process(data):\n",
    "\n",
    "    # Change the date column to datetime\n",
    "    data['timestamp'] = pd.to_datetime(data['timestamp'])\n",
    "    # sort the data by date\n",
    "    data = data.sort_values('timestamp')\n",
    "    data = data.reset_index(drop=True)\n",
    "\n",
    "    # Drop rows with missing values\n",
    "    data = data.dropna()\n",
    "\n",
    "    # Split data into training and testing sets\n",
    "    # last 14 days of data will be used for testing\n",
    "    test_data = data[-13:]\n",
    "    train_data = data[:-13]\n",
    "\n",
    "    # Add new data to test_data\n",
    "    # You can set how many \n",
    "    newData_num = 1\n",
    "    for i in range(newData_num):\n",
    "\n",
    "        latest_time = test_data['timestamp'].iloc[-1]\n",
    "        # one day after the last day of the test data\n",
    "        # Check the day of the week (0 = Monday, 1 = Tuesday, ..., 5 = Saturday, 6 = Sunday)\n",
    "        day_of_week = latest_time.weekday()\n",
    "\n",
    "        # If the latest time is a Friday (4), add three days to get Monday\n",
    "        # If it's a Saturday (5), add two days to get Monday\n",
    "        # Otherwise, just add one day\n",
    "        if day_of_week == 4:\n",
    "            next_weekday = latest_time + pd.Timedelta(days=3)\n",
    "        elif day_of_week == 5:\n",
    "            next_weekday = latest_time + pd.Timedelta(days=2)\n",
    "        else:\n",
    "            next_weekday = latest_time + pd.Timedelta(days=1)\n",
    "\n",
    "        latest_data_df = pd.DataFrame(\n",
    "            {\n",
    "                'timestamp': next_weekday,\n",
    "                'open': 0.0,\n",
    "                'high': 0.0,\n",
    "                'low': 0.0,\n",
    "                'close': 0.0,\n",
    "                'volume': 0.0\n",
    "            }, index=[0]\n",
    "        )\n",
    "        test_data = pd.concat([test_data, latest_data_df], ignore_index=True)\n",
    "\n",
    "    # # Save the data in CSV format\n",
    "    # train_data.to_csv(symbol + '_train_data.csv', index=False)\n",
    "    # test_data.to_csv(symbol + '_test_data.csv', index=False)\n",
    "    return train_data, test_data\n",
    "\n",
    "\n",
    "\n",
    "\n",
    "#  receive data from api in csv format\n",
    "url = f'https://www.alphavantage.co/query?function=TIME_SERIES_DAILY&symbol={symbol}&outputsize=full&apikey={api_key}&datatype=csv'\n",
    "response = requests.get(url)\n",
    "# Check if the request was successful\n",
    "if response.status_code == 200:\n",
    "    # Convert the response content to a CSV format and load it into a DataFrame\n",
    "    data = pd.read_csv(io.StringIO(response.text))\n",
    "    # Process the data\n",
    "    train_data, test_data = pre_process(data)\n",
    "else:\n",
    "    print(f\"Failed to retrieve data: {response.status_code}\")\n"
   ],
   "metadata": {
    "collapsed": false,
    "is_executing": true,
    "execution": {
     "iopub.status.busy": "2024-07-31T12:16:09.413758Z",
     "iopub.execute_input": "2024-07-31T12:16:09.414138Z",
     "iopub.status.idle": "2024-07-31T12:16:10.052488Z",
     "shell.execute_reply.started": "2024-07-31T12:16:09.414107Z",
     "shell.execute_reply": "2024-07-31T12:16:10.051600Z"
    },
    "trusted": true
   },
   "execution_count": 3,
   "outputs": [],
   "id": "e5034cc52901973b"
  },
  {
   "cell_type": "markdown",
   "source": [
    "# Selecting the target variable\n",
    "## You can choose whether to use open, high, low, close, or volume as the target variable"
   ],
   "metadata": {},
   "id": "b748ca3587f324a"
  },
  {
   "cell_type": "code",
   "source": [
    "#  For Open Price\n",
    "# training_set = train_data.iloc[:, 1:2].values\n",
    "# For Close Price\n",
    "training_set = train_data.iloc[:, 4:5].values"
   ],
   "metadata": {
    "collapsed": false,
    "execution": {
     "iopub.status.busy": "2024-07-31T12:16:10.053699Z",
     "iopub.execute_input": "2024-07-31T12:16:10.054321Z",
     "iopub.status.idle": "2024-07-31T12:16:10.059124Z",
     "shell.execute_reply.started": "2024-07-31T12:16:10.054288Z",
     "shell.execute_reply": "2024-07-31T12:16:10.058208Z"
    },
    "trusted": true
   },
   "execution_count": 4,
   "outputs": [],
   "id": "2cdcf67ff2f7f8c2"
  },
  {
   "cell_type": "markdown",
   "source": [
    "# Visualizing the training data"
   ],
   "metadata": {},
   "id": "72169b6f022e1af3"
  },
  {
   "cell_type": "code",
   "source": [
    "train_data.head()"
   ],
   "metadata": {
    "collapsed": false,
    "is_executing": true,
    "execution": {
     "iopub.status.busy": "2024-07-31T12:16:10.062455Z",
     "iopub.execute_input": "2024-07-31T12:16:10.063265Z",
     "iopub.status.idle": "2024-07-31T12:16:10.081868Z",
     "shell.execute_reply.started": "2024-07-31T12:16:10.063236Z",
     "shell.execute_reply": "2024-07-31T12:16:10.080960Z"
    },
    "trusted": true
   },
   "execution_count": 5,
   "outputs": [
    {
     "execution_count": 5,
     "output_type": "execute_result",
     "data": {
      "text/plain": "   timestamp   open   high    low  close   volume\n0 2010-03-24  17.95  19.39  17.56  18.70  6890400\n1 2010-03-25  18.90  19.50  18.04  18.04  1853900\n2 2010-03-26  18.19  18.62  17.90  18.62   472400\n3 2010-03-29  18.75  18.97  18.19  18.70   371700\n4 2010-03-30  18.70  18.70  18.20  18.25   165000",
      "text/html": "<div>\n<style scoped>\n    .dataframe tbody tr th:only-of-type {\n        vertical-align: middle;\n    }\n\n    .dataframe tbody tr th {\n        vertical-align: top;\n    }\n\n    .dataframe thead th {\n        text-align: right;\n    }\n</style>\n<table border=\"1\" class=\"dataframe\">\n  <thead>\n    <tr style=\"text-align: right;\">\n      <th></th>\n      <th>timestamp</th>\n      <th>open</th>\n      <th>high</th>\n      <th>low</th>\n      <th>close</th>\n      <th>volume</th>\n    </tr>\n  </thead>\n  <tbody>\n    <tr>\n      <th>0</th>\n      <td>2010-03-24</td>\n      <td>17.95</td>\n      <td>19.39</td>\n      <td>17.56</td>\n      <td>18.70</td>\n      <td>6890400</td>\n    </tr>\n    <tr>\n      <th>1</th>\n      <td>2010-03-25</td>\n      <td>18.90</td>\n      <td>19.50</td>\n      <td>18.04</td>\n      <td>18.04</td>\n      <td>1853900</td>\n    </tr>\n    <tr>\n      <th>2</th>\n      <td>2010-03-26</td>\n      <td>18.19</td>\n      <td>18.62</td>\n      <td>17.90</td>\n      <td>18.62</td>\n      <td>472400</td>\n    </tr>\n    <tr>\n      <th>3</th>\n      <td>2010-03-29</td>\n      <td>18.75</td>\n      <td>18.97</td>\n      <td>18.19</td>\n      <td>18.70</td>\n      <td>371700</td>\n    </tr>\n    <tr>\n      <th>4</th>\n      <td>2010-03-30</td>\n      <td>18.70</td>\n      <td>18.70</td>\n      <td>18.20</td>\n      <td>18.25</td>\n      <td>165000</td>\n    </tr>\n  </tbody>\n</table>\n</div>"
     },
     "metadata": {}
    }
   ],
   "id": "72b99829c28f145c"
  },
  {
   "cell_type": "markdown",
   "source": [
    "# Visualizing the testing data"
   ],
   "metadata": {},
   "id": "ff554260bd8ce6e8"
  },
  {
   "cell_type": "code",
   "source": [
    "test_data.head()"
   ],
   "metadata": {
    "collapsed": false,
    "is_executing": true,
    "execution": {
     "iopub.status.busy": "2024-07-31T12:16:10.082837Z",
     "iopub.execute_input": "2024-07-31T12:16:10.083057Z",
     "iopub.status.idle": "2024-07-31T12:16:10.094969Z",
     "shell.execute_reply.started": "2024-07-31T12:16:10.083037Z",
     "shell.execute_reply": "2024-07-31T12:16:10.094076Z"
    },
    "trusted": true
   },
   "execution_count": 6,
   "outputs": [
    {
     "execution_count": 6,
     "output_type": "execute_result",
     "data": {
      "text/plain": "   timestamp   open   high    low  close     volume\n0 2024-07-12  22.63  23.21  22.47  22.60   621274.0\n1 2024-07-15  22.80  24.35  22.75  24.14   804393.0\n2 2024-07-16  24.39  24.82  24.00  24.72   922384.0\n3 2024-07-17  25.05  26.59  24.91  25.38  1704424.0\n4 2024-07-18  25.75  26.13  24.14  24.44  1036158.0",
      "text/html": "<div>\n<style scoped>\n    .dataframe tbody tr th:only-of-type {\n        vertical-align: middle;\n    }\n\n    .dataframe tbody tr th {\n        vertical-align: top;\n    }\n\n    .dataframe thead th {\n        text-align: right;\n    }\n</style>\n<table border=\"1\" class=\"dataframe\">\n  <thead>\n    <tr style=\"text-align: right;\">\n      <th></th>\n      <th>timestamp</th>\n      <th>open</th>\n      <th>high</th>\n      <th>low</th>\n      <th>close</th>\n      <th>volume</th>\n    </tr>\n  </thead>\n  <tbody>\n    <tr>\n      <th>0</th>\n      <td>2024-07-12</td>\n      <td>22.63</td>\n      <td>23.21</td>\n      <td>22.47</td>\n      <td>22.60</td>\n      <td>621274.0</td>\n    </tr>\n    <tr>\n      <th>1</th>\n      <td>2024-07-15</td>\n      <td>22.80</td>\n      <td>24.35</td>\n      <td>22.75</td>\n      <td>24.14</td>\n      <td>804393.0</td>\n    </tr>\n    <tr>\n      <th>2</th>\n      <td>2024-07-16</td>\n      <td>24.39</td>\n      <td>24.82</td>\n      <td>24.00</td>\n      <td>24.72</td>\n      <td>922384.0</td>\n    </tr>\n    <tr>\n      <th>3</th>\n      <td>2024-07-17</td>\n      <td>25.05</td>\n      <td>26.59</td>\n      <td>24.91</td>\n      <td>25.38</td>\n      <td>1704424.0</td>\n    </tr>\n    <tr>\n      <th>4</th>\n      <td>2024-07-18</td>\n      <td>25.75</td>\n      <td>26.13</td>\n      <td>24.14</td>\n      <td>24.44</td>\n      <td>1036158.0</td>\n    </tr>\n  </tbody>\n</table>\n</div>"
     },
     "metadata": {}
    }
   ],
   "id": "de758675fb53f86b"
  },
  {
   "cell_type": "markdown",
   "source": [
    "# Feature Scaling between 0 and 1"
   ],
   "metadata": {},
   "id": "42da042ee5666792"
  },
  {
   "cell_type": "code",
   "source": [
    "sc = MinMaxScaler(feature_range=(0,1))\n",
    "training_set_scaled = sc.fit_transform(training_set)"
   ],
   "metadata": {
    "collapsed": false,
    "is_executing": true,
    "execution": {
     "iopub.status.busy": "2024-07-31T12:16:10.096154Z",
     "iopub.execute_input": "2024-07-31T12:16:10.096496Z",
     "iopub.status.idle": "2024-07-31T12:16:10.104507Z",
     "shell.execute_reply.started": "2024-07-31T12:16:10.096465Z",
     "shell.execute_reply": "2024-07-31T12:16:10.103596Z"
    },
    "trusted": true
   },
   "execution_count": 7,
   "outputs": [],
   "id": "7ef77fd7e1333036"
  },
  {
   "cell_type": "markdown",
   "source": [
    "# Creating a data structure with 60 timesteps and 1 output"
   ],
   "metadata": {},
   "id": "c9cd55cd9ca36586"
  },
  {
   "cell_type": "code",
   "source": [
    "X_train = []\n",
    "y_train = []\n",
    "for i in range(timesteps, len(training_set)):\n",
    "    X_train.append(training_set_scaled[i-timesteps:i, 0])\n",
    "    y_train.append(training_set_scaled[i, 0])\n",
    "X_train, y_train = np.array(X_train), np.array(y_train)\n",
    "\n",
    "X_train = np.reshape(X_train, (X_train.shape[0], X_train.shape[1], 1))"
   ],
   "metadata": {
    "collapsed": false,
    "is_executing": true,
    "execution": {
     "iopub.status.busy": "2024-07-31T12:16:10.105436Z",
     "iopub.execute_input": "2024-07-31T12:16:10.105688Z",
     "iopub.status.idle": "2024-07-31T12:16:10.120592Z",
     "shell.execute_reply.started": "2024-07-31T12:16:10.105665Z",
     "shell.execute_reply": "2024-07-31T12:16:10.119739Z"
    },
    "trusted": true
   },
   "execution_count": 8,
   "outputs": [],
   "id": "66614b0c77778040"
  },
  {
   "cell_type": "markdown",
   "source": [
    "# Building the LSTM model"
   ],
   "metadata": {},
   "id": "c19d4ad2455b95db"
  },
  {
   "cell_type": "code",
   "source": [
    "model = Sequential()\n",
    "\n",
    "model.add(Input(shape=(X_train.shape[1], 1)))\n",
    "\n",
    "model.add(LSTM(units=50,return_sequences=True))\n",
    "model.add(Dropout(0.2))\n",
    "\n",
    "model.add(LSTM(units=50,return_sequences=True))\n",
    "model.add(Dropout(0.2))\n",
    "\n",
    "model.add(LSTM(units=50,return_sequences=True))\n",
    "model.add(Dropout(0.2))\n",
    "\n",
    "model.add(LSTM(units=50))\n",
    "model.add(Dropout(0.2))\n",
    "\n",
    "model.add(Dense(units=1))\n",
    "\n",
    "model.compile(optimizer='adam',loss='mean_squared_error')\n",
    "\n",
    "model.fit(X_train,y_train,epochs=100,batch_size=32)"
   ],
   "metadata": {
    "collapsed": false,
    "execution": {
     "iopub.status.busy": "2024-07-31T12:16:10.121649Z",
     "iopub.execute_input": "2024-07-31T12:16:10.122002Z",
     "iopub.status.idle": "2024-07-31T12:19:07.903302Z",
     "shell.execute_reply.started": "2024-07-31T12:16:10.121979Z",
     "shell.execute_reply": "2024-07-31T12:19:07.902413Z"
    },
    "trusted": true
   },
   "execution_count": 9,
   "outputs": [
    {
     "name": "stdout",
     "text": "Epoch 1/100\n\u001B[1m111/111\u001B[0m \u001B[32m━━━━━━━━━━━━━━━━━━━━\u001B[0m\u001B[37m\u001B[0m \u001B[1m7s\u001B[0m 15ms/step - loss: 0.0127\nEpoch 2/100\n\u001B[1m111/111\u001B[0m \u001B[32m━━━━━━━━━━━━━━━━━━━━\u001B[0m\u001B[37m\u001B[0m \u001B[1m2s\u001B[0m 15ms/step - loss: 0.0025\nEpoch 3/100\n\u001B[1m111/111\u001B[0m \u001B[32m━━━━━━━━━━━━━━━━━━━━\u001B[0m\u001B[37m\u001B[0m \u001B[1m2s\u001B[0m 15ms/step - loss: 0.0021\nEpoch 4/100\n\u001B[1m111/111\u001B[0m \u001B[32m━━━━━━━━━━━━━━━━━━━━\u001B[0m\u001B[37m\u001B[0m \u001B[1m2s\u001B[0m 15ms/step - loss: 0.0019\nEpoch 5/100\n\u001B[1m111/111\u001B[0m \u001B[32m━━━━━━━━━━━━━━━━━━━━\u001B[0m\u001B[37m\u001B[0m \u001B[1m2s\u001B[0m 15ms/step - loss: 0.0017\nEpoch 6/100\n\u001B[1m111/111\u001B[0m \u001B[32m━━━━━━━━━━━━━━━━━━━━\u001B[0m\u001B[37m\u001B[0m \u001B[1m2s\u001B[0m 15ms/step - loss: 0.0015\nEpoch 7/100\n\u001B[1m111/111\u001B[0m \u001B[32m━━━━━━━━━━━━━━━━━━━━\u001B[0m\u001B[37m\u001B[0m \u001B[1m2s\u001B[0m 15ms/step - loss: 0.0013\nEpoch 8/100\n\u001B[1m111/111\u001B[0m \u001B[32m━━━━━━━━━━━━━━━━━━━━\u001B[0m\u001B[37m\u001B[0m \u001B[1m2s\u001B[0m 15ms/step - loss: 0.0013\nEpoch 9/100\n\u001B[1m111/111\u001B[0m \u001B[32m━━━━━━━━━━━━━━━━━━━━\u001B[0m\u001B[37m\u001B[0m \u001B[1m2s\u001B[0m 15ms/step - loss: 0.0012\nEpoch 10/100\n\u001B[1m111/111\u001B[0m \u001B[32m━━━━━━━━━━━━━━━━━━━━\u001B[0m\u001B[37m\u001B[0m \u001B[1m2s\u001B[0m 15ms/step - loss: 0.0013\nEpoch 11/100\n\u001B[1m111/111\u001B[0m \u001B[32m━━━━━━━━━━━━━━━━━━━━\u001B[0m\u001B[37m\u001B[0m \u001B[1m2s\u001B[0m 15ms/step - loss: 0.0013\nEpoch 12/100\n\u001B[1m111/111\u001B[0m \u001B[32m━━━━━━━━━━━━━━━━━━━━\u001B[0m\u001B[37m\u001B[0m \u001B[1m2s\u001B[0m 15ms/step - loss: 0.0010\nEpoch 13/100\n\u001B[1m111/111\u001B[0m \u001B[32m━━━━━━━━━━━━━━━━━━━━\u001B[0m\u001B[37m\u001B[0m \u001B[1m2s\u001B[0m 15ms/step - loss: 9.2286e-04\nEpoch 14/100\n\u001B[1m111/111\u001B[0m \u001B[32m━━━━━━━━━━━━━━━━━━━━\u001B[0m\u001B[37m\u001B[0m \u001B[1m2s\u001B[0m 15ms/step - loss: 0.0011\nEpoch 15/100\n\u001B[1m111/111\u001B[0m \u001B[32m━━━━━━━━━━━━━━━━━━━━\u001B[0m\u001B[37m\u001B[0m \u001B[1m2s\u001B[0m 15ms/step - loss: 8.6447e-04\nEpoch 16/100\n\u001B[1m111/111\u001B[0m \u001B[32m━━━━━━━━━━━━━━━━━━━━\u001B[0m\u001B[37m\u001B[0m \u001B[1m2s\u001B[0m 15ms/step - loss: 8.8806e-04\nEpoch 17/100\n\u001B[1m111/111\u001B[0m \u001B[32m━━━━━━━━━━━━━━━━━━━━\u001B[0m\u001B[37m\u001B[0m \u001B[1m2s\u001B[0m 15ms/step - loss: 8.4146e-04\nEpoch 18/100\n\u001B[1m111/111\u001B[0m \u001B[32m━━━━━━━━━━━━━━━━━━━━\u001B[0m\u001B[37m\u001B[0m \u001B[1m2s\u001B[0m 15ms/step - loss: 7.8775e-04\nEpoch 19/100\n\u001B[1m111/111\u001B[0m \u001B[32m━━━━━━━━━━━━━━━━━━━━\u001B[0m\u001B[37m\u001B[0m \u001B[1m2s\u001B[0m 15ms/step - loss: 8.2434e-04\nEpoch 20/100\n\u001B[1m111/111\u001B[0m \u001B[32m━━━━━━━━━━━━━━━━━━━━\u001B[0m\u001B[37m\u001B[0m \u001B[1m2s\u001B[0m 15ms/step - loss: 7.4329e-04\nEpoch 21/100\n\u001B[1m111/111\u001B[0m \u001B[32m━━━━━━━━━━━━━━━━━━━━\u001B[0m\u001B[37m\u001B[0m \u001B[1m2s\u001B[0m 15ms/step - loss: 9.0378e-04\nEpoch 22/100\n\u001B[1m111/111\u001B[0m \u001B[32m━━━━━━━━━━━━━━━━━━━━\u001B[0m\u001B[37m\u001B[0m \u001B[1m2s\u001B[0m 15ms/step - loss: 7.8149e-04\nEpoch 23/100\n\u001B[1m111/111\u001B[0m \u001B[32m━━━━━━━━━━━━━━━━━━━━\u001B[0m\u001B[37m\u001B[0m \u001B[1m2s\u001B[0m 15ms/step - loss: 7.4915e-04\nEpoch 24/100\n\u001B[1m111/111\u001B[0m \u001B[32m━━━━━━━━━━━━━━━━━━━━\u001B[0m\u001B[37m\u001B[0m \u001B[1m2s\u001B[0m 15ms/step - loss: 9.3047e-04\nEpoch 25/100\n\u001B[1m111/111\u001B[0m \u001B[32m━━━━━━━━━━━━━━━━━━━━\u001B[0m\u001B[37m\u001B[0m \u001B[1m2s\u001B[0m 15ms/step - loss: 7.3600e-04\nEpoch 26/100\n\u001B[1m111/111\u001B[0m \u001B[32m━━━━━━━━━━━━━━━━━━━━\u001B[0m\u001B[37m\u001B[0m \u001B[1m2s\u001B[0m 15ms/step - loss: 7.1600e-04\nEpoch 27/100\n\u001B[1m111/111\u001B[0m \u001B[32m━━━━━━━━━━━━━━━━━━━━\u001B[0m\u001B[37m\u001B[0m \u001B[1m2s\u001B[0m 15ms/step - loss: 7.4464e-04\nEpoch 28/100\n\u001B[1m111/111\u001B[0m \u001B[32m━━━━━━━━━━━━━━━━━━━━\u001B[0m\u001B[37m\u001B[0m \u001B[1m2s\u001B[0m 15ms/step - loss: 7.0061e-04\nEpoch 29/100\n\u001B[1m111/111\u001B[0m \u001B[32m━━━━━━━━━━━━━━━━━━━━\u001B[0m\u001B[37m\u001B[0m \u001B[1m2s\u001B[0m 15ms/step - loss: 6.9804e-04\nEpoch 30/100\n\u001B[1m111/111\u001B[0m \u001B[32m━━━━━━━━━━━━━━━━━━━━\u001B[0m\u001B[37m\u001B[0m \u001B[1m2s\u001B[0m 15ms/step - loss: 7.7750e-04\nEpoch 31/100\n\u001B[1m111/111\u001B[0m \u001B[32m━━━━━━━━━━━━━━━━━━━━\u001B[0m\u001B[37m\u001B[0m \u001B[1m2s\u001B[0m 15ms/step - loss: 7.3300e-04\nEpoch 32/100\n\u001B[1m111/111\u001B[0m \u001B[32m━━━━━━━━━━━━━━━━━━━━\u001B[0m\u001B[37m\u001B[0m \u001B[1m2s\u001B[0m 15ms/step - loss: 6.5597e-04\nEpoch 33/100\n\u001B[1m111/111\u001B[0m \u001B[32m━━━━━━━━━━━━━━━━━━━━\u001B[0m\u001B[37m\u001B[0m \u001B[1m2s\u001B[0m 15ms/step - loss: 6.0789e-04\nEpoch 34/100\n\u001B[1m111/111\u001B[0m \u001B[32m━━━━━━━━━━━━━━━━━━━━\u001B[0m\u001B[37m\u001B[0m \u001B[1m2s\u001B[0m 15ms/step - loss: 6.5736e-04\nEpoch 35/100\n\u001B[1m111/111\u001B[0m \u001B[32m━━━━━━━━━━━━━━━━━━━━\u001B[0m\u001B[37m\u001B[0m \u001B[1m2s\u001B[0m 15ms/step - loss: 6.6364e-04\nEpoch 36/100\n\u001B[1m111/111\u001B[0m \u001B[32m━━━━━━━━━━━━━━━━━━━━\u001B[0m\u001B[37m\u001B[0m \u001B[1m2s\u001B[0m 15ms/step - loss: 5.8638e-04\nEpoch 37/100\n\u001B[1m111/111\u001B[0m \u001B[32m━━━━━━━━━━━━━━━━━━━━\u001B[0m\u001B[37m\u001B[0m \u001B[1m2s\u001B[0m 15ms/step - loss: 6.1576e-04\nEpoch 38/100\n\u001B[1m111/111\u001B[0m \u001B[32m━━━━━━━━━━━━━━━━━━━━\u001B[0m\u001B[37m\u001B[0m \u001B[1m2s\u001B[0m 15ms/step - loss: 7.8221e-04\nEpoch 39/100\n\u001B[1m111/111\u001B[0m \u001B[32m━━━━━━━━━━━━━━━━━━━━\u001B[0m\u001B[37m\u001B[0m \u001B[1m2s\u001B[0m 15ms/step - loss: 5.9217e-04\nEpoch 40/100\n\u001B[1m111/111\u001B[0m \u001B[32m━━━━━━━━━━━━━━━━━━━━\u001B[0m\u001B[37m\u001B[0m \u001B[1m3s\u001B[0m 15ms/step - loss: 5.7422e-04\nEpoch 41/100\n\u001B[1m111/111\u001B[0m \u001B[32m━━━━━━━━━━━━━━━━━━━━\u001B[0m\u001B[37m\u001B[0m \u001B[1m2s\u001B[0m 15ms/step - loss: 6.1676e-04\nEpoch 42/100\n\u001B[1m111/111\u001B[0m \u001B[32m━━━━━━━━━━━━━━━━━━━━\u001B[0m\u001B[37m\u001B[0m \u001B[1m2s\u001B[0m 15ms/step - loss: 7.5750e-04\nEpoch 43/100\n\u001B[1m111/111\u001B[0m \u001B[32m━━━━━━━━━━━━━━━━━━━━\u001B[0m\u001B[37m\u001B[0m \u001B[1m2s\u001B[0m 15ms/step - loss: 6.6805e-04\nEpoch 44/100\n\u001B[1m111/111\u001B[0m \u001B[32m━━━━━━━━━━━━━━━━━━━━\u001B[0m\u001B[37m\u001B[0m \u001B[1m2s\u001B[0m 15ms/step - loss: 7.5891e-04\nEpoch 45/100\n\u001B[1m111/111\u001B[0m \u001B[32m━━━━━━━━━━━━━━━━━━━━\u001B[0m\u001B[37m\u001B[0m \u001B[1m2s\u001B[0m 15ms/step - loss: 5.6157e-04\nEpoch 46/100\n\u001B[1m111/111\u001B[0m \u001B[32m━━━━━━━━━━━━━━━━━━━━\u001B[0m\u001B[37m\u001B[0m \u001B[1m2s\u001B[0m 15ms/step - loss: 6.5666e-04\nEpoch 47/100\n\u001B[1m111/111\u001B[0m \u001B[32m━━━━━━━━━━━━━━━━━━━━\u001B[0m\u001B[37m\u001B[0m \u001B[1m2s\u001B[0m 15ms/step - loss: 5.4441e-04\nEpoch 48/100\n\u001B[1m111/111\u001B[0m \u001B[32m━━━━━━━━━━━━━━━━━━━━\u001B[0m\u001B[37m\u001B[0m \u001B[1m2s\u001B[0m 15ms/step - loss: 5.7646e-04\nEpoch 49/100\n\u001B[1m111/111\u001B[0m \u001B[32m━━━━━━━━━━━━━━━━━━━━\u001B[0m\u001B[37m\u001B[0m \u001B[1m2s\u001B[0m 15ms/step - loss: 5.7793e-04\nEpoch 50/100\n\u001B[1m111/111\u001B[0m \u001B[32m━━━━━━━━━━━━━━━━━━━━\u001B[0m\u001B[37m\u001B[0m \u001B[1m2s\u001B[0m 15ms/step - loss: 5.7708e-04\nEpoch 51/100\n\u001B[1m111/111\u001B[0m \u001B[32m━━━━━━━━━━━━━━━━━━━━\u001B[0m\u001B[37m\u001B[0m \u001B[1m2s\u001B[0m 15ms/step - loss: 6.7401e-04\nEpoch 52/100\n\u001B[1m111/111\u001B[0m \u001B[32m━━━━━━━━━━━━━━━━━━━━\u001B[0m\u001B[37m\u001B[0m \u001B[1m2s\u001B[0m 15ms/step - loss: 5.8099e-04\nEpoch 53/100\n\u001B[1m111/111\u001B[0m \u001B[32m━━━━━━━━━━━━━━━━━━━━\u001B[0m\u001B[37m\u001B[0m \u001B[1m2s\u001B[0m 15ms/step - loss: 5.6546e-04\nEpoch 54/100\n\u001B[1m111/111\u001B[0m \u001B[32m━━━━━━━━━━━━━━━━━━━━\u001B[0m\u001B[37m\u001B[0m \u001B[1m2s\u001B[0m 15ms/step - loss: 4.8952e-04\nEpoch 55/100\n\u001B[1m111/111\u001B[0m \u001B[32m━━━━━━━━━━━━━━━━━━━━\u001B[0m\u001B[37m\u001B[0m \u001B[1m2s\u001B[0m 15ms/step - loss: 5.9250e-04\nEpoch 56/100\n\u001B[1m111/111\u001B[0m \u001B[32m━━━━━━━━━━━━━━━━━━━━\u001B[0m\u001B[37m\u001B[0m \u001B[1m2s\u001B[0m 15ms/step - loss: 6.9580e-04\nEpoch 57/100\n\u001B[1m111/111\u001B[0m \u001B[32m━━━━━━━━━━━━━━━━━━━━\u001B[0m\u001B[37m\u001B[0m \u001B[1m2s\u001B[0m 15ms/step - loss: 5.2729e-04\nEpoch 58/100\n\u001B[1m111/111\u001B[0m \u001B[32m━━━━━━━━━━━━━━━━━━━━\u001B[0m\u001B[37m\u001B[0m \u001B[1m2s\u001B[0m 15ms/step - loss: 5.4713e-04\nEpoch 59/100\n\u001B[1m111/111\u001B[0m \u001B[32m━━━━━━━━━━━━━━━━━━━━\u001B[0m\u001B[37m\u001B[0m \u001B[1m2s\u001B[0m 15ms/step - loss: 5.9093e-04\nEpoch 60/100\n\u001B[1m111/111\u001B[0m \u001B[32m━━━━━━━━━━━━━━━━━━━━\u001B[0m\u001B[37m\u001B[0m \u001B[1m2s\u001B[0m 15ms/step - loss: 6.1927e-04\nEpoch 61/100\n\u001B[1m111/111\u001B[0m \u001B[32m━━━━━━━━━━━━━━━━━━━━\u001B[0m\u001B[37m\u001B[0m \u001B[1m2s\u001B[0m 15ms/step - loss: 7.1407e-04\nEpoch 62/100\n\u001B[1m111/111\u001B[0m \u001B[32m━━━━━━━━━━━━━━━━━━━━\u001B[0m\u001B[37m\u001B[0m \u001B[1m2s\u001B[0m 15ms/step - loss: 5.4130e-04\nEpoch 63/100\n\u001B[1m111/111\u001B[0m \u001B[32m━━━━━━━━━━━━━━━━━━━━\u001B[0m\u001B[37m\u001B[0m \u001B[1m2s\u001B[0m 15ms/step - loss: 5.6926e-04\nEpoch 64/100\n\u001B[1m111/111\u001B[0m \u001B[32m━━━━━━━━━━━━━━━━━━━━\u001B[0m\u001B[37m\u001B[0m \u001B[1m2s\u001B[0m 15ms/step - loss: 5.2122e-04\nEpoch 65/100\n\u001B[1m111/111\u001B[0m \u001B[32m━━━━━━━━━━━━━━━━━━━━\u001B[0m\u001B[37m\u001B[0m \u001B[1m2s\u001B[0m 15ms/step - loss: 5.2621e-04\nEpoch 66/100\n\u001B[1m111/111\u001B[0m \u001B[32m━━━━━━━━━━━━━━━━━━━━\u001B[0m\u001B[37m\u001B[0m \u001B[1m2s\u001B[0m 15ms/step - loss: 5.5008e-04\nEpoch 67/100\n\u001B[1m111/111\u001B[0m \u001B[32m━━━━━━━━━━━━━━━━━━━━\u001B[0m\u001B[37m\u001B[0m \u001B[1m2s\u001B[0m 15ms/step - loss: 4.8349e-04\nEpoch 68/100\n\u001B[1m111/111\u001B[0m \u001B[32m━━━━━━━━━━━━━━━━━━━━\u001B[0m\u001B[37m\u001B[0m \u001B[1m2s\u001B[0m 15ms/step - loss: 5.3027e-04\nEpoch 69/100\n\u001B[1m111/111\u001B[0m \u001B[32m━━━━━━━━━━━━━━━━━━━━\u001B[0m\u001B[37m\u001B[0m \u001B[1m2s\u001B[0m 15ms/step - loss: 4.8557e-04\nEpoch 70/100\n\u001B[1m111/111\u001B[0m \u001B[32m━━━━━━━━━━━━━━━━━━━━\u001B[0m\u001B[37m\u001B[0m \u001B[1m2s\u001B[0m 15ms/step - loss: 5.3420e-04\nEpoch 71/100\n\u001B[1m111/111\u001B[0m \u001B[32m━━━━━━━━━━━━━━━━━━━━\u001B[0m\u001B[37m\u001B[0m \u001B[1m2s\u001B[0m 15ms/step - loss: 4.6986e-04\nEpoch 72/100\n\u001B[1m111/111\u001B[0m \u001B[32m━━━━━━━━━━━━━━━━━━━━\u001B[0m\u001B[37m\u001B[0m \u001B[1m2s\u001B[0m 15ms/step - loss: 5.2262e-04\nEpoch 73/100\n\u001B[1m111/111\u001B[0m \u001B[32m━━━━━━━━━━━━━━━━━━━━\u001B[0m\u001B[37m\u001B[0m \u001B[1m2s\u001B[0m 15ms/step - loss: 5.5661e-04\nEpoch 74/100\n\u001B[1m111/111\u001B[0m \u001B[32m━━━━━━━━━━━━━━━━━━━━\u001B[0m\u001B[37m\u001B[0m \u001B[1m2s\u001B[0m 15ms/step - loss: 5.1154e-04\nEpoch 75/100\n\u001B[1m111/111\u001B[0m \u001B[32m━━━━━━━━━━━━━━━━━━━━\u001B[0m\u001B[37m\u001B[0m \u001B[1m2s\u001B[0m 15ms/step - loss: 4.9849e-04\nEpoch 76/100\n\u001B[1m111/111\u001B[0m \u001B[32m━━━━━━━━━━━━━━━━━━━━\u001B[0m\u001B[37m\u001B[0m \u001B[1m2s\u001B[0m 16ms/step - loss: 5.2490e-04\nEpoch 77/100\n\u001B[1m111/111\u001B[0m \u001B[32m━━━━━━━━━━━━━━━━━━━━\u001B[0m\u001B[37m\u001B[0m \u001B[1m2s\u001B[0m 15ms/step - loss: 4.9385e-04\nEpoch 78/100\n\u001B[1m111/111\u001B[0m \u001B[32m━━━━━━━━━━━━━━━━━━━━\u001B[0m\u001B[37m\u001B[0m \u001B[1m2s\u001B[0m 15ms/step - loss: 5.3670e-04\nEpoch 79/100\n\u001B[1m111/111\u001B[0m \u001B[32m━━━━━━━━━━━━━━━━━━━━\u001B[0m\u001B[37m\u001B[0m \u001B[1m2s\u001B[0m 15ms/step - loss: 5.1645e-04\nEpoch 80/100\n\u001B[1m111/111\u001B[0m \u001B[32m━━━━━━━━━━━━━━━━━━━━\u001B[0m\u001B[37m\u001B[0m \u001B[1m2s\u001B[0m 15ms/step - loss: 5.5134e-04\nEpoch 81/100\n\u001B[1m111/111\u001B[0m \u001B[32m━━━━━━━━━━━━━━━━━━━━\u001B[0m\u001B[37m\u001B[0m \u001B[1m2s\u001B[0m 15ms/step - loss: 5.0605e-04\nEpoch 82/100\n\u001B[1m111/111\u001B[0m \u001B[32m━━━━━━━━━━━━━━━━━━━━\u001B[0m\u001B[37m\u001B[0m \u001B[1m2s\u001B[0m 15ms/step - loss: 4.3678e-04\nEpoch 83/100\n\u001B[1m111/111\u001B[0m \u001B[32m━━━━━━━━━━━━━━━━━━━━\u001B[0m\u001B[37m\u001B[0m \u001B[1m2s\u001B[0m 15ms/step - loss: 4.4822e-04\nEpoch 84/100\n\u001B[1m111/111\u001B[0m \u001B[32m━━━━━━━━━━━━━━━━━━━━\u001B[0m\u001B[37m\u001B[0m \u001B[1m2s\u001B[0m 15ms/step - loss: 5.9222e-04\nEpoch 85/100\n\u001B[1m111/111\u001B[0m \u001B[32m━━━━━━━━━━━━━━━━━━━━\u001B[0m\u001B[37m\u001B[0m \u001B[1m2s\u001B[0m 15ms/step - loss: 5.6721e-04\nEpoch 86/100\n\u001B[1m111/111\u001B[0m \u001B[32m━━━━━━━━━━━━━━━━━━━━\u001B[0m\u001B[37m\u001B[0m \u001B[1m2s\u001B[0m 15ms/step - loss: 5.2237e-04\nEpoch 87/100\n\u001B[1m111/111\u001B[0m \u001B[32m━━━━━━━━━━━━━━━━━━━━\u001B[0m\u001B[37m\u001B[0m \u001B[1m2s\u001B[0m 15ms/step - loss: 4.7544e-04\nEpoch 88/100\n\u001B[1m111/111\u001B[0m \u001B[32m━━━━━━━━━━━━━━━━━━━━\u001B[0m\u001B[37m\u001B[0m \u001B[1m2s\u001B[0m 15ms/step - loss: 4.8363e-04\nEpoch 89/100\n\u001B[1m111/111\u001B[0m \u001B[32m━━━━━━━━━━━━━━━━━━━━\u001B[0m\u001B[37m\u001B[0m \u001B[1m2s\u001B[0m 15ms/step - loss: 4.8386e-04\nEpoch 90/100\n\u001B[1m111/111\u001B[0m \u001B[32m━━━━━━━━━━━━━━━━━━━━\u001B[0m\u001B[37m\u001B[0m \u001B[1m2s\u001B[0m 15ms/step - loss: 4.8822e-04\nEpoch 91/100\n\u001B[1m111/111\u001B[0m \u001B[32m━━━━━━━━━━━━━━━━━━━━\u001B[0m\u001B[37m\u001B[0m \u001B[1m2s\u001B[0m 15ms/step - loss: 4.7216e-04\nEpoch 92/100\n\u001B[1m111/111\u001B[0m \u001B[32m━━━━━━━━━━━━━━━━━━━━\u001B[0m\u001B[37m\u001B[0m \u001B[1m2s\u001B[0m 15ms/step - loss: 4.4728e-04\nEpoch 93/100\n\u001B[1m111/111\u001B[0m \u001B[32m━━━━━━━━━━━━━━━━━━━━\u001B[0m\u001B[37m\u001B[0m \u001B[1m2s\u001B[0m 15ms/step - loss: 5.0126e-04\nEpoch 94/100\n\u001B[1m111/111\u001B[0m \u001B[32m━━━━━━━━━━━━━━━━━━━━\u001B[0m\u001B[37m\u001B[0m \u001B[1m2s\u001B[0m 15ms/step - loss: 4.4374e-04\nEpoch 95/100\n\u001B[1m111/111\u001B[0m \u001B[32m━━━━━━━━━━━━━━━━━━━━\u001B[0m\u001B[37m\u001B[0m \u001B[1m2s\u001B[0m 15ms/step - loss: 5.2480e-04\nEpoch 96/100\n\u001B[1m111/111\u001B[0m \u001B[32m━━━━━━━━━━━━━━━━━━━━\u001B[0m\u001B[37m\u001B[0m \u001B[1m2s\u001B[0m 15ms/step - loss: 4.1198e-04\nEpoch 97/100\n\u001B[1m111/111\u001B[0m \u001B[32m━━━━━━━━━━━━━━━━━━━━\u001B[0m\u001B[37m\u001B[0m \u001B[1m2s\u001B[0m 15ms/step - loss: 4.6551e-04\nEpoch 98/100\n\u001B[1m111/111\u001B[0m \u001B[32m━━━━━━━━━━━━━━━━━━━━\u001B[0m\u001B[37m\u001B[0m \u001B[1m2s\u001B[0m 16ms/step - loss: 4.5785e-04\nEpoch 99/100\n\u001B[1m111/111\u001B[0m \u001B[32m━━━━━━━━━━━━━━━━━━━━\u001B[0m\u001B[37m\u001B[0m \u001B[1m2s\u001B[0m 15ms/step - loss: 5.0247e-04\nEpoch 100/100\n\u001B[1m111/111\u001B[0m \u001B[32m━━━━━━━━━━━━━━━━━━━━\u001B[0m\u001B[37m\u001B[0m \u001B[1m2s\u001B[0m 15ms/step - loss: 5.2434e-04\n",
     "output_type": "stream"
    },
    {
     "execution_count": 9,
     "output_type": "execute_result",
     "data": {
      "text/plain": "<keras.src.callbacks.history.History at 0x7fefecb1c550>"
     },
     "metadata": {}
    }
   ],
   "id": "6193c6905fdaa7b8"
  },
  {
   "cell_type": "markdown",
   "source": [
    "# Saving the model"
   ],
   "metadata": {},
   "id": "9ceff79e3ad3c9e1"
  },
  {
   "cell_type": "code",
   "source": [
    "model.save_weights('/kaggle/working/model_weights.weights.h5')"
   ],
   "metadata": {
    "collapsed": false,
    "execution": {
     "iopub.status.busy": "2024-07-31T12:19:07.904623Z",
     "iopub.execute_input": "2024-07-31T12:19:07.904990Z",
     "iopub.status.idle": "2024-07-31T12:19:07.961796Z",
     "shell.execute_reply.started": "2024-07-31T12:19:07.904957Z",
     "shell.execute_reply": "2024-07-31T12:19:07.960894Z"
    },
    "trusted": true
   },
   "execution_count": 10,
   "outputs": [],
   "id": "e6c6f8a711fa13e"
  },
  {
   "cell_type": "markdown",
   "source": [
    "# Making the predictions "
   ],
   "metadata": {},
   "id": "2832107b736e65ed"
  },
  {
   "cell_type": "code",
   "source": [
    "# dataset_total = pd.concat((train_data['open'], test_data['open']), axis = 0)\n",
    "dataset_total = pd.concat((train_data['close'], test_data['close']), axis = 0)\n",
    "\n",
    "inputs = dataset_total[len(dataset_total) - len(test_data) - timesteps:].values\n",
    "\n",
    "inputs = inputs.reshape(-1,1)\n",
    "inputs = sc.transform(inputs)\n",
    "X_test = []\n",
    "for i in range(timesteps, 74):\n",
    "    X_test.append(inputs[i-timesteps:i, 0])\n",
    "X_test = np.array(X_test)\n",
    "X_test = np.reshape(X_test, (X_test.shape[0], X_test.shape[1], 1))\n",
    "predicted_stock_price = model.predict(X_test)\n",
    "predicted_stock_price = sc.inverse_transform(predicted_stock_price)"
   ],
   "metadata": {
    "collapsed": false,
    "execution": {
     "iopub.status.busy": "2024-07-31T12:19:07.962992Z",
     "iopub.execute_input": "2024-07-31T12:19:07.963263Z",
     "iopub.status.idle": "2024-07-31T12:19:08.289337Z",
     "shell.execute_reply.started": "2024-07-31T12:19:07.963240Z",
     "shell.execute_reply": "2024-07-31T12:19:08.288644Z"
    },
    "trusted": true
   },
   "execution_count": 11,
   "outputs": [
    {
     "name": "stdout",
     "text": "\u001B[1m1/1\u001B[0m \u001B[32m━━━━━━━━━━━━━━━━━━━━\u001B[0m\u001B[37m\u001B[0m \u001B[1m0s\u001B[0m 277ms/step\n",
     "output_type": "stream"
    }
   ],
   "id": "e903852478f9d61b"
  },
  {
   "cell_type": "markdown",
   "source": [
    "# Comparing the predicted and actual stock prices"
   ],
   "metadata": {
    "collapsed": false
   },
   "id": "d395a4c4bc979562"
  },
  {
   "cell_type": "code",
   "source": [
    "timestamps = test_data['timestamp'].values[:len(predicted_stock_price)]\n",
    "# actual_stock_price = test_data['open'].values[:len(predicted_stock_price)]\n",
    "actual_stock_price = test_data['close'].values[:len(predicted_stock_price)]\n",
    "\n",
    "\n",
    "\n",
    "# Print the predictions with timestamps\n",
    "print(\"Predicted Stock Prices:\")\n",
    "for timestamp, price in zip(timestamps, predicted_stock_price):\n",
    "    print(f\"Timestamp: {timestamp}, Predicted Price: {price[0]}\")\n",
    "\n",
    "# Print the actual values with timestamps for comparison\n",
    "print(\"\\nActual Stock Prices:\")\n",
    "for timestamp, price in zip(timestamps, actual_stock_price):\n",
    "    print(f\"Timestamp: {timestamp}, Actual Price: {price}\")\n",
    "\n"
   ],
   "metadata": {
    "execution": {
     "iopub.status.busy": "2024-07-31T12:19:58.088719Z",
     "iopub.execute_input": "2024-07-31T12:19:58.089121Z",
     "iopub.status.idle": "2024-07-31T12:19:58.097109Z",
     "shell.execute_reply.started": "2024-07-31T12:19:58.089090Z",
     "shell.execute_reply": "2024-07-31T12:19:58.096219Z"
    },
    "trusted": true
   },
   "execution_count": 14,
   "outputs": [
    {
     "name": "stdout",
     "text": "Predicted Stock Prices:\nTimestamp: 2024-07-12T00:00:00.000000000, Predicted Price: 22.12953758239746\nTimestamp: 2024-07-15T00:00:00.000000000, Predicted Price: 22.251468658447266\nTimestamp: 2024-07-16T00:00:00.000000000, Predicted Price: 23.387746810913086\nTimestamp: 2024-07-17T00:00:00.000000000, Predicted Price: 24.308589935302734\nTimestamp: 2024-07-18T00:00:00.000000000, Predicted Price: 24.985519409179688\nTimestamp: 2024-07-19T00:00:00.000000000, Predicted Price: 24.474681854248047\nTimestamp: 2024-07-22T00:00:00.000000000, Predicted Price: 23.79253578186035\nTimestamp: 2024-07-23T00:00:00.000000000, Predicted Price: 24.331031799316406\nTimestamp: 2024-07-24T00:00:00.000000000, Predicted Price: 23.688997268676758\nTimestamp: 2024-07-25T00:00:00.000000000, Predicted Price: 22.555328369140625\nTimestamp: 2024-07-26T00:00:00.000000000, Predicted Price: 17.10582160949707\nTimestamp: 2024-07-29T00:00:00.000000000, Predicted Price: 13.715368270874023\nTimestamp: 2024-07-30T00:00:00.000000000, Predicted Price: 13.43104362487793\nTimestamp: 2024-07-31T00:00:00.000000000, Predicted Price: 13.652263641357422\n\nActual Stock Prices:\nTimestamp: 2024-07-12T00:00:00.000000000, Actual Price: 22.6\nTimestamp: 2024-07-15T00:00:00.000000000, Actual Price: 24.14\nTimestamp: 2024-07-16T00:00:00.000000000, Actual Price: 24.72\nTimestamp: 2024-07-17T00:00:00.000000000, Actual Price: 25.38\nTimestamp: 2024-07-18T00:00:00.000000000, Actual Price: 24.44\nTimestamp: 2024-07-19T00:00:00.000000000, Actual Price: 23.93\nTimestamp: 2024-07-22T00:00:00.000000000, Actual Price: 25.06\nTimestamp: 2024-07-23T00:00:00.000000000, Actual Price: 23.49\nTimestamp: 2024-07-24T00:00:00.000000000, Actual Price: 22.29\nTimestamp: 2024-07-25T00:00:00.000000000, Actual Price: 14.02\nTimestamp: 2024-07-26T00:00:00.000000000, Actual Price: 12.775\nTimestamp: 2024-07-29T00:00:00.000000000, Actual Price: 13.77\nTimestamp: 2024-07-30T00:00:00.000000000, Actual Price: 12.9\nTimestamp: 2024-07-31T00:00:00.000000000, Actual Price: 0.0\n",
     "output_type": "stream"
    }
   ],
   "id": "148f98e8bd3b5c70"
  },
  {
   "cell_type": "markdown",
   "source": [
    "# Visualizing the results\n",
    "## As we can see, the model does not predict prices accurately, but it does a good job of capturing the general trend of the stock price.\n",
    "## The model predicted the stock prices for the next 14 days (last 13 days + 1 coming day)."
   ],
   "metadata": {},
   "id": "48c34d6bb63c2ce7"
  },
  {
   "cell_type": "code",
   "source": [
    "plt.figure(figsize=(10, 6))\n",
    "plt.plot(range(1, len(actual_stock_price) + 1), actual_stock_price, color='black', label='Real Stock Price')\n",
    "plt.plot(range(1, len(predicted_stock_price) + 1), predicted_stock_price, color='green', label='Predicted Stock Price')\n",
    "plt.title('Stock Price Prediction')\n",
    "plt.xlabel('Time')\n",
    "plt.ylabel('Stock Price')\n",
    "plt.legend()\n",
    "plt.show()"
   ],
   "metadata": {
    "collapsed": false,
    "execution": {
     "iopub.status.busy": "2024-07-31T12:20:01.609877Z",
     "iopub.execute_input": "2024-07-31T12:20:01.610233Z",
     "iopub.status.idle": "2024-07-31T12:20:01.846020Z",
     "shell.execute_reply.started": "2024-07-31T12:20:01.610205Z",
     "shell.execute_reply": "2024-07-31T12:20:01.845153Z"
    },
    "trusted": true
   },
   "execution_count": 15,
   "outputs": [
    {
     "output_type": "display_data",
     "data": {
      "text/plain": "<Figure size 1000x600 with 1 Axes>",
      "image/png": "[encoded data removed]"
     },
     "metadata": {}
    }
   ],
   "id": "7077cfc5646a2d14"
  }
 ]
}
